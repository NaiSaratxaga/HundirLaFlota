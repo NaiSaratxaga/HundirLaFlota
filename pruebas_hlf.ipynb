{
 "cells": [
  {
   "cell_type": "markdown",
   "metadata": {},
   "source": [
    "## Notebook pruebas hundir la flota\n",
    "    \n"
   ]
  },
  {
   "cell_type": "code",
   "execution_count": null,
   "metadata": {},
   "outputs": [
    {
     "name": "stdout",
     "output_type": "stream",
     "text": [
      "coordenadas no válidas\n",
      "coordenadas no válidas\n",
      "coordenadas no válidas\n"
     ]
    }
   ],
   "source": [
    "# pide coordenadas al usuario y las verifica antes de continuar.\n",
    "# Si la entrada no es válida, vuelve a pedirla hasta que sea correcta.\n",
    "\n",
    "#PARA PONER COORDENADAS NO VALIDAS PARA EL USUARIO\n",
    "\n",
    "# El código se repite sin parar hasta que se ingrese una coordenada válida.\n",
    "while True:\n",
    "    coordenadas = input(\"Introduce coordenadas (x y): \")\n",
    "    \n",
    "    # Validar entrada\n",
    "    # Elimina los espacios y verifica si solo hay números.\n",
    "    try:\n",
    "\n",
    "        x, y = map(int, coordenadas.split(\",\"))\n",
    "\n",
    "        if x < 0 or x >= 9 or y < 0 or y >= 9:\n",
    "            print(\"Coordenadas fuera del tablero, intenta de nuevo.\")\n",
    "            continue  # Repite el ciclo sin continuar\n",
    "\n",
    "    # Si las coordenadas son válidas, salir del bucle\n",
    "        break\n",
    "    except Exception:\n",
    "        print(\"coordenadas no válidas\")"
   ]
  },
  {
   "cell_type": "code",
   "execution_count": 3,
   "metadata": {},
   "outputs": [
    {
     "data": {
      "text/plain": [
       "[[' ', ' ', ' ', ' ', ' ', ' ', ' ', ' ', ' ', ' '],\n",
       " ['B', 'B', 'B', 'B', ' ', ' ', ' ', ' ', ' ', ' '],\n",
       " [' ', ' ', ' ', ' ', ' ', ' ', ' ', ' ', ' ', ' '],\n",
       " [' ', ' ', ' ', 'B', ' ', ' ', ' ', ' ', ' ', ' '],\n",
       " [' ', ' ', ' ', 'B', ' ', ' ', ' ', ' ', ' ', ' '],\n",
       " [' ', ' ', ' ', 'B', ' ', ' ', ' ', ' ', ' ', ' '],\n",
       " [' ', ' ', ' ', ' ', ' ', ' ', ' ', ' ', ' ', ' '],\n",
       " [' ', ' ', ' ', ' ', ' ', ' ', ' ', ' ', ' ', ' '],\n",
       " [' ', ' ', ' ', ' ', ' ', ' ', ' ', ' ', ' ', ' '],\n",
       " [' ', ' ', ' ', ' ', ' ', ' ', ' ', ' ', ' ', ' ']]"
      ]
     },
     "execution_count": 3,
     "metadata": {},
     "output_type": "execute_result"
    }
   ],
   "source": [
    "#aqui ponemos los barcos fijos\n",
    "\n",
    "# Crear un tablero como una lista de listas de 10x10 que contenga caracteres espacios:\"\"\n",
    "# Aquí estamos creando una lista vacía llamada tablero, que será la que contenga todas las filas del tablero.\n",
    "tablero = []\n",
    "num_columnas = 10\n",
    "num_filas = 10\n",
    "#Este bucle for se ejecuta 10 veces, es decir, crea 10 filas para el tablero. Cada fila será una lista que tiene 10 espacios vacíos.\n",
    "for indice_fila in range(num_filas):\n",
    "#Dentro de cada iteración del bucle, creamos una nueva lista llamada linea. Luego, dentro de otro bucle for (también de 10 repeticiones),\n",
    "# agregamos 10 espacios vacíos (\" \") a esta lista. Cada espacio representa una celda en esa fila del tablero.\n",
    "    linea = []\n",
    "    for indice_columna in range(num_columnas):\n",
    "        if (indice_fila == 1 and indice_columna < 4) or (indice_columna == 3 and (indice_fila >= 3 and indice_fila <= 5)):\n",
    "            linea.append(\"B\")\n",
    "        else:\n",
    "            linea.append(\" \")\n",
    "#Después de crear la fila (es decir, después de añadir 10 espacios vacíos), esta fila se añade a la lista principal tablero.\n",
    "    tablero.append(linea)\n",
    "#Al final del proceso, tablero tendrá 10 listas, cada una de ellas con 10 espacios vacíos, lo que crea un tablero de 10x10 de celdas vacías.\n",
    "tablero\n",
    "\n",
    "# Escribir una celda de código separada de las anteriores para simular que el usuario está efectuando un disparo: \n",
    "# - Solicite al usuario dos coordenadas `i,j` mediante dos inputs\n",
    "\n"
   ]
  },
  {
   "cell_type": "code",
   "execution_count": 2,
   "metadata": {},
   "outputs": [],
   "source": [
    "\n",
    "\n",
    "def disparar(tablero, tablero_mostrar, x, y):\n",
    "    if tablero[x][y] == \"B\":  # Acertamos un barco\n",
    "        print(\"¡Tocado!\")\n",
    "        tablero[x][y] = \"X\"\n",
    "        tablero_mostrar[x][y] = \"X\"\n",
    "        return True\n",
    "    elif tablero[x][y] == \" \":  # Fallamos\n",
    "        print(\"¡Agua!\")\n",
    "        tablero[x][y] = \"O\"\n",
    "        tablero_mostrar[x][y] = \"O\"\n",
    "        return False\n",
    "    else:\n",
    "        print(\"Ya disparaste aquí. Intenta en otra casilla.\")\n",
    "        return False\n",
    "\n",
    "\n"
   ]
  },
  {
   "cell_type": "code",
   "execution_count": null,
   "metadata": {},
   "outputs": [],
   "source": [
    "# Probar que el ordendor me dispare\n"
   ]
  },
  {
   "cell_type": "code",
   "execution_count": 4,
   "metadata": {},
   "outputs": [],
   "source": [
    "def crear_tablero(tamano):\n",
    "    return [[\" \" for _ in range(tamano)] for _ in range(tamano)]\n"
   ]
  },
  {
   "cell_type": "code",
   "execution_count": 5,
   "metadata": {},
   "outputs": [
    {
     "name": "stdout",
     "output_type": "stream",
     "text": [
      "20\n"
     ]
    }
   ],
   "source": [
    "NUM_BARCOS_ESLORA_1 = 4  # Número de barcos en el tablero\n",
    "NUM_BARCOS_ESLORA_2 = 3  # Número de barcos en el tablero\n",
    "NUM_BARCOS_ESLORA_3 = 2  # Número de barcos en el tablero\n",
    "NUM_BARCOS_ESLORA_4 = 1  # Número de barcos en el tablero\n",
    "\n",
    "TOTAL_UNIDADES_BARCO = NUM_BARCOS_ESLORA_1 + (NUM_BARCOS_ESLORA_2 * 2) + (NUM_BARCOS_ESLORA_3 * 3)+ (NUM_BARCOS_ESLORA_4 * 4)\n",
    "\n",
    "print(TOTAL_UNIDADES_BARCO)"
   ]
  }
 ],
 "metadata": {
  "kernelspec": {
   "display_name": "Python 3",
   "language": "python",
   "name": "python3"
  },
  "language_info": {
   "codemirror_mode": {
    "name": "ipython",
    "version": 3
   },
   "file_extension": ".py",
   "mimetype": "text/x-python",
   "name": "python",
   "nbconvert_exporter": "python",
   "pygments_lexer": "ipython3",
   "version": "3.11.9"
  }
 },
 "nbformat": 4,
 "nbformat_minor": 2
}
