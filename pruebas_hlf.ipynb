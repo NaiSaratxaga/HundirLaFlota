{
 "cells": [
  {
   "cell_type": "markdown",
   "metadata": {},
   "source": [
    "## Ejercicio Extra HLF\n",
    "Vamos a empezar a programar trozos de código que nos servirán para el HLF:\n",
    "\n",
    "* Crear un Tablero como una lista de listas de 10x10 que contenga caracteres espacio: \" \"\n",
    "* Insertar dos barcos sustituyendo en el Tablero los espacios en blanco por el caracter \"B\":\n",
    "    * Uno de 4 casillas en horizontal: casillas [1][0], [1][1], [1][2], [1][3]\n",
    "    * Uno de 3 casillas en vertical:   casillas [3][3], [4][3], [4][4], [4][5]\n",
    "* Escribir una celda de código separada de las anteriores para simular que el usuario está efectuando un disparo: \n",
    "    *  Solicite al usuario dos coordenadas `i,j` mediante dos inputs\n",
    "    *  Compruebe si esas coordenadas están ocupada por una casilla barco (que haya una en \"B\")\n",
    "        * Si hay una \"B\":\n",
    "            * Cambiar el contenido de esa posición por una \"x\"\n",
    "            * Imprimir por pantalla el texto \"Tocado en posición `i,j`\"\n",
    "        * Si hay un \" \":\n",
    "            * Cambiar el contenido de esa posición por una \"o\"\n",
    "            * Imprimir por pantalla el texto \"Agua\"\n",
    "    * Imprimir por pantalla el Tablero\n",
    "* Para comprobar que funciona bien la celda de disparar ejecutarla varias veces metiendo distintas coordenadas\n",
    "\n",
    "### Bonus\n",
    "* En la celda de disparar, si el usuario acierta a tocar un barco, vuelve a disparar\n",
    "* Restilizando funciones\n",
    "    \n"
   ]
  },
  {
   "cell_type": "code",
   "execution_count": null,
   "metadata": {},
   "outputs": [
    {
     "data": {
      "text/plain": [
       "[[' ', ' ', ' ', ' ', ' ', ' ', ' ', ' ', ' ', ' '],\n",
       " ['B', 'B', 'B', 'B', ' ', ' ', ' ', ' ', ' ', ' '],\n",
       " [' ', ' ', ' ', ' ', ' ', ' ', ' ', ' ', ' ', ' '],\n",
       " [' ', ' ', ' ', 'B', ' ', ' ', ' ', ' ', ' ', ' '],\n",
       " [' ', ' ', ' ', 'B', ' ', ' ', ' ', ' ', ' ', ' '],\n",
       " [' ', ' ', ' ', 'B', ' ', ' ', ' ', ' ', ' ', ' '],\n",
       " [' ', ' ', ' ', ' ', ' ', ' ', ' ', ' ', ' ', ' '],\n",
       " [' ', ' ', ' ', ' ', ' ', ' ', ' ', ' ', ' ', ' '],\n",
       " [' ', ' ', ' ', ' ', ' ', ' ', ' ', ' ', ' ', ' '],\n",
       " [' ', ' ', ' ', ' ', ' ', ' ', ' ', ' ', ' ', ' ']]"
      ]
     },
     "execution_count": 15,
     "metadata": {},
     "output_type": "execute_result"
    }
   ],
   "source": [
    "#la presentación se hace desde la terminal\n",
    "\n",
    "import os\n",
    "import time\n",
    "# Crear un tablero como una lista de listas de 10x10 que contenga caracteres espacios:\"\"\n",
    "# Aquí estamos creando una lista vacía llamada tablero, que será la que contenga todas las filas del tablero.\n",
    "tablero = []\n",
    "num_columnas = 10\n",
    "num_filas = 10\n",
    "#Este bucle for se ejecuta 10 veces, es decir, crea 10 filas para el tablero. Cada fila será una lista que tiene 10 espacios vacíos.\n",
    "for indice_fila in range(num_filas):\n",
    "#Dentro de cada iteración del bucle, creamos una nueva lista llamada linea. Luego, dentro de otro bucle for (también de 10 repeticiones),\n",
    "# agregamos 10 espacios vacíos (\" \") a esta lista. Cada espacio representa una celda en esa fila del tablero.\n",
    "    linea = []\n",
    "    for indice_columna in range(num_columnas):\n",
    "        if (indice_fila == 1 and indice_columna < 4) or (indice_columna == 3 and (indice_fila >= 3 and indice_fila <= 5)):\n",
    "            linea.append(\"B\")\n",
    "        else:\n",
    "            linea.append(\" \")\n",
    "#Después de crear la fila (es decir, después de añadir 10 espacios vacíos), esta fila se añade a la lista principal tablero.\n",
    "    tablero.append(linea)\n",
    "#Al final del proceso, tablero tendrá 10 listas, cada una de ellas con 10 espacios vacíos, lo que crea un tablero de 10x10 de celdas vacías.\n",
    "tablero\n",
    "\n",
    "# Escribir una celda de código separada de las anteriores para simular que el usuario está efectuando un disparo: \n",
    "# - Solicite al usuario dos coordenadas `i,j` mediante dos inputs\n",
    "\n"
   ]
  },
  {
   "cell_type": "code",
   "execution_count": null,
   "metadata": {},
   "outputs": [],
   "source": []
  }
 ],
 "metadata": {
  "kernelspec": {
   "display_name": "Python 3",
   "language": "python",
   "name": "python3"
  },
  "language_info": {
   "codemirror_mode": {
    "name": "ipython",
    "version": 3
   },
   "file_extension": ".py",
   "mimetype": "text/x-python",
   "name": "python",
   "nbconvert_exporter": "python",
   "pygments_lexer": "ipython3",
   "version": "3.11.9"
  }
 },
 "nbformat": 4,
 "nbformat_minor": 2
}
