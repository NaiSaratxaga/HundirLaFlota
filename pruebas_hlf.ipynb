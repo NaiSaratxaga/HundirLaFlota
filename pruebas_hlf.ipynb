{
 "cells": [
  {
   "cell_type": "markdown",
   "metadata": {},
   "source": [
    "## Notebook pruebas hundir la flota\n",
    "    \n"
   ]
  },
  {
   "cell_type": "code",
   "execution_count": 6,
   "metadata": {},
   "outputs": [
    {
     "name": "stdout",
     "output_type": "stream",
     "text": [
      "coordenadas no válidas\n",
      "coordenadas no válidas\n"
     ]
    }
   ],
   "source": [
    "# pide coordenadas al usuario y las verifica antes de continuar.\n",
    "# Si la entrada no es válida, vuelve a pedirla hasta que sea correcta.\n",
    "\n",
    "#PARA PONER COORDENADAS NO VALIDAS PARA EL USUARIO\n",
    "\n",
    "# El código se repite sin parar hasta que se ingrese una coordenada válida.\n",
    "while True:\n",
    "    coordenadas = input(\"Introduce coordenadas (x y): \")\n",
    "    \n",
    "    # Validar entrada\n",
    "    # Elimina los espacios y verifica si solo hay números.\n",
    "    try:\n",
    "\n",
    "        x, y = map(int, coordenadas.split(\",\"))\n",
    "\n",
    "        if x < 0 or x >= 9 or y < 0 or y >= 9:\n",
    "            print(\"Coordenadas fuera del tablero, intenta de nuevo.\")\n",
    "            continue  # Repite el ciclo sin continuar\n",
    "\n",
    "    # Si las coordenadas son válidas, salir del bucle\n",
    "        break\n",
    "    except Exception:\n",
    "        print(\"coordenadas no válidas\")"
   ]
  },
  {
   "cell_type": "code",
   "execution_count": 7,
   "metadata": {},
   "outputs": [
    {
     "data": {
      "text/plain": [
       "[[' ', ' ', ' ', ' ', ' ', ' ', ' ', ' ', ' ', ' '],\n",
       " ['B', 'B', 'B', 'B', ' ', ' ', ' ', ' ', ' ', ' '],\n",
       " [' ', ' ', ' ', ' ', ' ', ' ', ' ', ' ', ' ', ' '],\n",
       " [' ', ' ', ' ', 'B', ' ', ' ', ' ', ' ', ' ', ' '],\n",
       " [' ', ' ', ' ', 'B', ' ', ' ', ' ', ' ', ' ', ' '],\n",
       " [' ', ' ', ' ', 'B', ' ', ' ', ' ', ' ', ' ', ' '],\n",
       " [' ', ' ', ' ', ' ', ' ', ' ', ' ', ' ', ' ', ' '],\n",
       " [' ', ' ', ' ', ' ', ' ', ' ', ' ', ' ', ' ', ' '],\n",
       " [' ', ' ', ' ', ' ', ' ', ' ', ' ', ' ', ' ', ' '],\n",
       " [' ', ' ', ' ', ' ', ' ', ' ', ' ', ' ', ' ', ' ']]"
      ]
     },
     "execution_count": 7,
     "metadata": {},
     "output_type": "execute_result"
    }
   ],
   "source": [
    "#aqui ponemos los barcos fijos\n",
    "\n",
    "# Crear un tablero como una lista de listas de 10x10 que contenga caracteres espacios:\"\"\n",
    "# Aquí estamos creando una lista vacía llamada tablero, que será la que contenga todas las filas del tablero.\n",
    "tablero = []\n",
    "num_columnas = 10\n",
    "num_filas = 10\n",
    "#Este bucle for se ejecuta 10 veces, es decir, crea 10 filas para el tablero. Cada fila será una lista que tiene 10 espacios vacíos.\n",
    "for indice_fila in range(num_filas):\n",
    "#Dentro de cada iteración del bucle, creamos una nueva lista llamada linea. Luego, dentro de otro bucle for (también de 10 repeticiones),\n",
    "# agregamos 10 espacios vacíos (\" \") a esta lista. Cada espacio representa una celda en esa fila del tablero.\n",
    "    linea = []\n",
    "    for indice_columna in range(num_columnas):\n",
    "        if (indice_fila == 1 and indice_columna < 4) or (indice_columna == 3 and (indice_fila >= 3 and indice_fila <= 5)):\n",
    "            linea.append(\"B\")\n",
    "        else:\n",
    "            linea.append(\" \")\n",
    "#Después de crear la fila (es decir, después de añadir 10 espacios vacíos), esta fila se añade a la lista principal tablero.\n",
    "    tablero.append(linea)\n",
    "#Al final del proceso, tablero tendrá 10 listas, cada una de ellas con 10 espacios vacíos, lo que crea un tablero de 10x10 de celdas vacías.\n",
    "tablero\n",
    "\n",
    "# Escribir una celda de código separada de las anteriores para simular que el usuario está efectuando un disparo: \n",
    "# - Solicite al usuario dos coordenadas `i,j` mediante dos inputs\n",
    "\n"
   ]
  },
  {
   "cell_type": "code",
   "execution_count": 8,
   "metadata": {},
   "outputs": [],
   "source": [
    "\n",
    "\n",
    "def disparar(tablero, tablero_mostrar, x, y):\n",
    "    if tablero[x][y] == \"B\":  # Acertamos un barco\n",
    "        print(\"¡Tocado!\")\n",
    "        tablero[x][y] = \"X\"\n",
    "        tablero_mostrar[x][y] = \"X\"\n",
    "        return True\n",
    "    elif tablero[x][y] == \" \":  # Fallamos\n",
    "        print(\"¡Agua!\")\n",
    "        tablero[x][y] = \"O\"\n",
    "        tablero_mostrar[x][y] = \"O\"\n",
    "        return False\n",
    "    else:\n",
    "        print(\"Ya disparaste aquí. Intenta en otra casilla.\")\n",
    "        return False\n",
    "\n",
    "\n"
   ]
  },
  {
   "cell_type": "code",
   "execution_count": 9,
   "metadata": {},
   "outputs": [],
   "source": [
    "# Probar que el ordendor me dispare\n"
   ]
  },
  {
   "cell_type": "code",
   "execution_count": 10,
   "metadata": {},
   "outputs": [],
   "source": [
    "def crear_tablero(tamano):\n",
    "    return [[\" \" for _ in range(tamano)] for _ in range(tamano)]\n"
   ]
  },
  {
   "cell_type": "code",
   "execution_count": 11,
   "metadata": {},
   "outputs": [
    {
     "name": "stdout",
     "output_type": "stream",
     "text": [
      "20\n"
     ]
    }
   ],
   "source": [
    "NUM_BARCOS_ESLORA_1 = 4  # Número de barcos en el tablero\n",
    "NUM_BARCOS_ESLORA_2 = 3  # Número de barcos en el tablero\n",
    "NUM_BARCOS_ESLORA_3 = 2  # Número de barcos en el tablero\n",
    "NUM_BARCOS_ESLORA_4 = 1  # Número de barcos en el tablero\n",
    "\n",
    "TOTAL_UNIDADES_BARCO = NUM_BARCOS_ESLORA_1 + (NUM_BARCOS_ESLORA_2 * 2) + (NUM_BARCOS_ESLORA_3 * 3)+ (NUM_BARCOS_ESLORA_4 * 4)\n",
    "\n",
    "print(TOTAL_UNIDADES_BARCO)"
   ]
  },
  {
   "cell_type": "code",
   "execution_count": null,
   "metadata": {},
   "outputs": [
    {
     "name": "stdout",
     "output_type": "stream",
     "text": [
      "Por favor, ingresa números válidos.\n",
      "Por favor, ingresa números válidos.\n",
      "Por favor, ingresa números válidos.\n",
      "Por favor, ingresa números válidos.\n"
     ]
    },
    {
     "ename": "KeyboardInterrupt",
     "evalue": "Interrupted by user",
     "output_type": "error",
     "traceback": [
      "\u001b[31m---------------------------------------------------------------------------\u001b[39m",
      "\u001b[31mKeyboardInterrupt\u001b[39m                         Traceback (most recent call last)",
      "\u001b[36mCell\u001b[39m\u001b[36m \u001b[39m\u001b[32mIn[12]\u001b[39m\u001b[32m, line 3\u001b[39m\n\u001b[32m      1\u001b[39m \u001b[38;5;28;01mwhile\u001b[39;00m \u001b[38;5;28;01mTrue\u001b[39;00m:\n\u001b[32m      2\u001b[39m     \u001b[38;5;28;01mtry\u001b[39;00m:\n\u001b[32m----> \u001b[39m\u001b[32m3\u001b[39m         i = \u001b[38;5;28mint\u001b[39m(\u001b[38;5;28;43minput\u001b[39;49m\u001b[43m(\u001b[49m\u001b[33;43m\"\u001b[39;49m\u001b[33;43mIntroduce la fila, por favor: \u001b[39;49m\u001b[33;43m\"\u001b[39;49m\u001b[43m)\u001b[49m)\n\u001b[32m      4\u001b[39m         j = \u001b[38;5;28mint\u001b[39m(\u001b[38;5;28minput\u001b[39m(\u001b[33m\"\u001b[39m\u001b[33mIntroduce la columna, por favor: \u001b[39m\u001b[33m\"\u001b[39m))\n\u001b[32m      5\u001b[39m         \u001b[38;5;28;01mif\u001b[39;00m i < \u001b[32m0\u001b[39m \u001b[38;5;129;01mor\u001b[39;00m i >= TAMANO \u001b[38;5;129;01mor\u001b[39;00m j < \u001b[32m0\u001b[39m \u001b[38;5;129;01mor\u001b[39;00m j >= TAMANO:\n",
      "\u001b[36mFile \u001b[39m\u001b[32m~\\AppData\\Roaming\\Python\\Python311\\site-packages\\ipykernel\\kernelbase.py:1282\u001b[39m, in \u001b[36mKernel.raw_input\u001b[39m\u001b[34m(self, prompt)\u001b[39m\n\u001b[32m   1280\u001b[39m     msg = \u001b[33m\"\u001b[39m\u001b[33mraw_input was called, but this frontend does not support input requests.\u001b[39m\u001b[33m\"\u001b[39m\n\u001b[32m   1281\u001b[39m     \u001b[38;5;28;01mraise\u001b[39;00m StdinNotImplementedError(msg)\n\u001b[32m-> \u001b[39m\u001b[32m1282\u001b[39m \u001b[38;5;28;01mreturn\u001b[39;00m \u001b[38;5;28;43mself\u001b[39;49m\u001b[43m.\u001b[49m\u001b[43m_input_request\u001b[49m\u001b[43m(\u001b[49m\n\u001b[32m   1283\u001b[39m \u001b[43m    \u001b[49m\u001b[38;5;28;43mstr\u001b[39;49m\u001b[43m(\u001b[49m\u001b[43mprompt\u001b[49m\u001b[43m)\u001b[49m\u001b[43m,\u001b[49m\n\u001b[32m   1284\u001b[39m \u001b[43m    \u001b[49m\u001b[38;5;28;43mself\u001b[39;49m\u001b[43m.\u001b[49m\u001b[43m_parent_ident\u001b[49m\u001b[43m[\u001b[49m\u001b[33;43m\"\u001b[39;49m\u001b[33;43mshell\u001b[39;49m\u001b[33;43m\"\u001b[39;49m\u001b[43m]\u001b[49m\u001b[43m,\u001b[49m\n\u001b[32m   1285\u001b[39m \u001b[43m    \u001b[49m\u001b[38;5;28;43mself\u001b[39;49m\u001b[43m.\u001b[49m\u001b[43mget_parent\u001b[49m\u001b[43m(\u001b[49m\u001b[33;43m\"\u001b[39;49m\u001b[33;43mshell\u001b[39;49m\u001b[33;43m\"\u001b[39;49m\u001b[43m)\u001b[49m\u001b[43m,\u001b[49m\n\u001b[32m   1286\u001b[39m \u001b[43m    \u001b[49m\u001b[43mpassword\u001b[49m\u001b[43m=\u001b[49m\u001b[38;5;28;43;01mFalse\u001b[39;49;00m\u001b[43m,\u001b[49m\n\u001b[32m   1287\u001b[39m \u001b[43m\u001b[49m\u001b[43m)\u001b[49m\n",
      "\u001b[36mFile \u001b[39m\u001b[32m~\\AppData\\Roaming\\Python\\Python311\\site-packages\\ipykernel\\kernelbase.py:1325\u001b[39m, in \u001b[36mKernel._input_request\u001b[39m\u001b[34m(self, prompt, ident, parent, password)\u001b[39m\n\u001b[32m   1322\u001b[39m \u001b[38;5;28;01mexcept\u001b[39;00m \u001b[38;5;167;01mKeyboardInterrupt\u001b[39;00m:\n\u001b[32m   1323\u001b[39m     \u001b[38;5;66;03m# re-raise KeyboardInterrupt, to truncate traceback\u001b[39;00m\n\u001b[32m   1324\u001b[39m     msg = \u001b[33m\"\u001b[39m\u001b[33mInterrupted by user\u001b[39m\u001b[33m\"\u001b[39m\n\u001b[32m-> \u001b[39m\u001b[32m1325\u001b[39m     \u001b[38;5;28;01mraise\u001b[39;00m \u001b[38;5;167;01mKeyboardInterrupt\u001b[39;00m(msg) \u001b[38;5;28;01mfrom\u001b[39;00m\u001b[38;5;250m \u001b[39m\u001b[38;5;28;01mNone\u001b[39;00m\n\u001b[32m   1326\u001b[39m \u001b[38;5;28;01mexcept\u001b[39;00m \u001b[38;5;167;01mException\u001b[39;00m:\n\u001b[32m   1327\u001b[39m     \u001b[38;5;28mself\u001b[39m.log.warning(\u001b[33m\"\u001b[39m\u001b[33mInvalid Message:\u001b[39m\u001b[33m\"\u001b[39m, exc_info=\u001b[38;5;28;01mTrue\u001b[39;00m)\n",
      "\u001b[31mKeyboardInterrupt\u001b[39m: Interrupted by user"
     ]
    }
   ],
   "source": [
    "#Con esto intentamos reforzar para que el usuario ingrese una cifra y no letras\n",
    "TAMANO = 10  # Tamaño del tablero (puede ajustarse)\n",
    "\n",
    "while True:\n",
    "    try:\n",
    "        i = int(input(\"Introduce la fila, por favor: \"))\n",
    "        j = int(input(\"Introduce la columna, por favor: \"))\n",
    "        if i < 0 or i >= TAMANO or j < 0 or j >= TAMANO:\n",
    "            print(\"Coordenadas fuera de rango. Intenta de nuevo.\")\n",
    "            continue\n",
    "    except ValueError:\n",
    "        print(\"Por favor, ingresa números válidos.\")\n",
    "        continue  # Volver a pedir los datos\n",
    "\n",
    "\n"
   ]
  }
 ],
 "metadata": {
  "kernelspec": {
   "display_name": "Python 3",
   "language": "python",
   "name": "python3"
  },
  "language_info": {
   "codemirror_mode": {
    "name": "ipython",
    "version": 3
   },
   "file_extension": ".py",
   "mimetype": "text/x-python",
   "name": "python",
   "nbconvert_exporter": "python",
   "pygments_lexer": "ipython3",
   "version": "3.11.9"
  }
 },
 "nbformat": 4,
 "nbformat_minor": 2
}
