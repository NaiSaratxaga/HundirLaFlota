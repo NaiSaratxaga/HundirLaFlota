{
 "cells": [
  {
   "cell_type": "markdown",
   "metadata": {},
   "source": [
    "## Notebook pruebas hundir la flota\n",
    "    \n"
   ]
  },
  {
   "cell_type": "code",
   "execution_count": 53,
   "metadata": {},
   "outputs": [
    {
     "name": "stdout",
     "output_type": "stream",
     "text": [
      "Tablero del Jugador:\n",
      "                   \n",
      "                  B\n",
      "                   \n",
      "        B   B      \n",
      "                   \n",
      "  B         B      \n",
      "                   \n",
      "                   \n",
      "                   \n",
      "                   \n",
      "\n",
      "Tablero del Ordenador:\n",
      "                   \n",
      "B                  \n",
      "                   \n",
      "                   \n",
      "                  B\n",
      "    B              \n",
      "              B    \n",
      "        B          \n",
      "                   \n",
      "                   \n",
      "\n",
      "Disparo del jugador a la casilla (2, 3):\n",
      "Disparo acertado: False\n",
      "                   \n",
      "B                  \n",
      "                  \n",
      "                   \n",
      "                  B\n",
      "    B              \n",
      "              B    \n",
      "        B          \n",
      "                   \n",
      "                   \n",
      "\n"
     ]
    }
   ],
   "source": [
    "import random\n",
    "import pprint\n",
    "\n",
    "\n",
    "\n",
    "def crear_tablero(tamano):\n",
    "    tablero = [[\" \" for i in range(tamano)] for j in range(tamano)]\n",
    "    return tablero\n",
    "\n",
    "def visualizar(tablero):\n",
    "    pprint.pprint(tablero) \n",
    "    \n",
    "# Función para imprimir el tablero\n",
    "def imprimir_tablero(tablero):\n",
    "    for fila in tablero:\n",
    "        print(' '.join(fila))\n",
    "    print() \n",
    "\n",
    "# Función para colocar barcos de manera aleatoria en el tablero\n",
    "def colocar_barcos(tablero, num_barcos=5):\n",
    "    barcos_colocados = 0\n",
    "    tamano = len(tablero)\n",
    "    while barcos_colocados < num_barcos:\n",
    "        x = random.randint(0, tamano-1)\n",
    "        y = random.randint(0, tamano-1)\n",
    "        if tablero[x][y] == \" \":  # Si la casilla está vacía\n",
    "            tablero[x][y] = \"B\"  # Colocamos un barco\n",
    "            barcos_colocados += 1\n",
    "\n",
    "# Función para simular un disparo\n",
    "def disparar(tablero, x, y):\n",
    "    if tablero[x][y] == \"B\":  # Acertamos un barco\n",
    "        tablero[x][y] = \"X\"\n",
    "        return True\n",
    "    elif tablero[x][y] == \" \":  # Fallamos\n",
    "        tablero[x][y] = \"\"\n",
    "        return False\n",
    "    return None\n",
    "\n",
    "# Tamaño del tablero\n",
    "tamano_tablero = 10\n",
    "\n",
    "# Crear los tableros de los jugadores\n",
    "tablero_jugador = crear_tablero(tamano_tablero)\n",
    "tablero_ordenador = crear_tablero(tamano_tablero)\n",
    "\n",
    "# Colocar barcos en ambos tableros\n",
    "colocar_barcos(tablero_jugador)\n",
    "colocar_barcos(tablero_ordenador)\n",
    "\n",
    "# Imprimir los tableros\n",
    "print(\"Tablero del Jugador:\")\n",
    "imprimir_tablero(tablero_jugador)\n",
    "\n",
    "print(\"Tablero del Ordenador:\")\n",
    "imprimir_tablero(tablero_ordenador)\n",
    "\n",
    "# Ejemplo de disparo del jugador\n",
    "print(\"Disparo del jugador a la casilla (2, 3):\")\n",
    "disparo = disparar(tablero_ordenador, 2, 3)\n",
    "print(f\"Disparo acertado: {disparo}\")\n",
    "imprimir_tablero(tablero_ordenador)\n"
   ]
  },
  {
   "cell_type": "code",
   "execution_count": 54,
   "metadata": {},
   "outputs": [],
   "source": [
    "# pide coordenadas al usuario y las verifica antes de continuar.\n",
    "# Si la entrada no es válida, vuelve a pedirla hasta que sea correcta.\n",
    "\n",
    "# El código se repite sin parar hasta que se ingrese una coordenada válida.\n",
    "while True:\n",
    "    coordenadas = input(\"Introduce coordenadas (x y): \")\n",
    "    \n",
    "    # Validar entrada\n",
    "    # Elimina los espacios y verifica si solo hay números.\n",
    "    try:\n",
    "\n",
    "        x, y = map(int, coordenadas.split(\",\"))\n",
    "\n",
    "        if x < 0 or x >= 9 or y < 0 or y >= 9:\n",
    "            print(\"Coordenadas fuera del tablero, intenta de nuevo.\")\n",
    "            continue  # Repite el ciclo sin continuar\n",
    "\n",
    "    # Si las coordenadas son válidas, salir del bucle\n",
    "        break\n",
    "    except Exception:\n",
    "        print(\"coordenadas no válidas\")"
   ]
  },
  {
   "cell_type": "code",
   "execution_count": null,
   "metadata": {},
   "outputs": [
    {
     "data": {
      "text/plain": [
       "[[' ', ' ', ' ', ' ', ' ', ' ', ' ', ' ', ' ', ' '],\n",
       " ['B', 'B', 'B', 'B', ' ', ' ', ' ', ' ', ' ', ' '],\n",
       " [' ', ' ', ' ', ' ', ' ', ' ', ' ', ' ', ' ', ' '],\n",
       " [' ', ' ', ' ', 'B', ' ', ' ', ' ', ' ', ' ', ' '],\n",
       " [' ', ' ', ' ', 'B', ' ', ' ', ' ', ' ', ' ', ' '],\n",
       " [' ', ' ', ' ', 'B', ' ', ' ', ' ', ' ', ' ', ' '],\n",
       " [' ', ' ', ' ', ' ', ' ', ' ', ' ', ' ', ' ', ' '],\n",
       " [' ', ' ', ' ', ' ', ' ', ' ', ' ', ' ', ' ', ' '],\n",
       " [' ', ' ', ' ', ' ', ' ', ' ', ' ', ' ', ' ', ' '],\n",
       " [' ', ' ', ' ', ' ', ' ', ' ', ' ', ' ', ' ', ' ']]"
      ]
     },
     "execution_count": 14,
     "metadata": {},
     "output_type": "execute_result"
    }
   ],
   "source": [
    "import os\n",
    "import time\n",
    "# Crear un tablero como una lista de listas de 10x10 que contenga caracteres espacios:\"\"\n",
    "# Aquí estamos creando una lista vacía llamada tablero, que será la que contenga todas las filas del tablero.\n",
    "tablero = []\n",
    "num_columnas = 10\n",
    "num_filas = 10\n",
    "#Este bucle for se ejecuta 10 veces, es decir, crea 10 filas para el tablero. Cada fila será una lista que tiene 10 espacios vacíos.\n",
    "for indice_fila in range(num_filas):\n",
    "#Dentro de cada iteración del bucle, creamos una nueva lista llamada linea. Luego, dentro de otro bucle for (también de 10 repeticiones),\n",
    "# agregamos 10 espacios vacíos (\" \") a esta lista. Cada espacio representa una celda en esa fila del tablero.\n",
    "    linea = []\n",
    "    for indice_columna in range(num_columnas):\n",
    "        if (indice_fila == 1 and indice_columna < 4) or (indice_columna == 3 and (indice_fila >= 3 and indice_fila <= 5)):\n",
    "            linea.append(\"B\")\n",
    "        else:\n",
    "            linea.append(\" \")\n",
    "#Después de crear la fila (es decir, después de añadir 10 espacios vacíos), esta fila se añade a la lista principal tablero.\n",
    "    tablero.append(linea)\n",
    "#Al final del proceso, tablero tendrá 10 listas, cada una de ellas con 10 espacios vacíos, lo que crea un tablero de 10x10 de celdas vacías.\n",
    "tablero\n",
    "\n",
    "# Escribir una celda de código separada de las anteriores para simular que el usuario está efectuando un disparo: \n",
    "# - Solicite al usuario dos coordenadas `i,j` mediante dos inputs\n",
    "\n"
   ]
  },
  {
   "cell_type": "code",
   "execution_count": null,
   "metadata": {},
   "outputs": [],
   "source": [
    "# probar a poner letras y numeros\n",
    "\n"
   ]
  }
 ],
 "metadata": {
  "kernelspec": {
   "display_name": "Python 3",
   "language": "python",
   "name": "python3"
  },
  "language_info": {
   "codemirror_mode": {
    "name": "ipython",
    "version": 3
   },
   "file_extension": ".py",
   "mimetype": "text/x-python",
   "name": "python",
   "nbconvert_exporter": "python",
   "pygments_lexer": "ipython3",
   "version": "3.11.9"
  }
 },
 "nbformat": 4,
 "nbformat_minor": 2
}
