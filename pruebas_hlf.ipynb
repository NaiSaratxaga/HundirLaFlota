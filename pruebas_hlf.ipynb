{
 "cells": [
  {
   "cell_type": "markdown",
   "metadata": {},
   "source": [
    "## Notebook pruebas hundir la flota\n",
    "    \n"
   ]
  },
  {
   "cell_type": "code",
   "execution_count": null,
   "metadata": {},
   "outputs": [],
   "source": [
    "import random\n",
    "\n",
    "\n",
    "# Función para crear un tablero vacío de tamaño dado (10x10)\n",
    "def crear_tablero(tamano):\n",
    "    return [[\"~\" for _ in range(tamano)] for _ in range(tamano)]  # Usamos '~' para indicar celdas vacías\n",
    "\n",
    "# Lista de barcos con su tamaño\n",
    "barcos = [\n",
    "    {'nombre': 'Acorazado', 'tamano': 4},\n",
    "    {'nombre': 'Submarino', 'tamano': 3},\n",
    "    {'nombre': 'Destructor', 'tamano': 2},\n",
    "    {'nombre': 'Barco pequeño', 'tamano': 1}\n",
    "]\n",
    "\n",
    "# Función para colocar un barco de manera aleatoria en el tablero\n",
    "\n"
   ]
  },
  {
   "cell_type": "code",
   "execution_count": null,
   "metadata": {},
   "outputs": [],
   "source": []
  }
 ],
 "metadata": {
  "kernelspec": {
   "display_name": "Python 3",
   "language": "python",
   "name": "python3"
  },
  "language_info": {
   "codemirror_mode": {
    "name": "ipython",
    "version": 3
   },
   "file_extension": ".py",
   "mimetype": "text/x-python",
   "name": "python",
   "nbconvert_exporter": "python",
   "pygments_lexer": "ipython3",
   "version": "3.11.9"
  }
 },
 "nbformat": 4,
 "nbformat_minor": 2
}
